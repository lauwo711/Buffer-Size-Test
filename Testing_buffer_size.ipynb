{
 "cells": [
  {
   "cell_type": "code",
   "execution_count": null,
   "metadata": {},
   "outputs": [],
   "source": [
    "#main function copy map1 to output path, and duplicate it as map2,3,4\n",
    "\n",
    "import time\n",
    "import os\n",
    "import shutil\n",
    "\n",
    "def copy_write(src_dir,inv_mth,n): #source folder,invenotry month,buffer size\n",
    "    \n",
    "    mapping=['map1','map2','map3','map4']\n",
    "    \n",
    "    src_file = os.path.join(src_dir, \"map1_\" + inv_mth + \".csv\") #source file path\n",
    "    \n",
    "    for i in mapping:\n",
    "        dst_dir = r\"D:\\output\"\n",
    "        \n",
    "        dst_file = os.path.join(dst_dir,  i + \"_\" + inv_mth + \".csv\") #destination path\n",
    "\n",
    "        with open(src_file, 'rb') as file_from:\n",
    "            with open(dst_file, 'wb') as file_to:\n",
    "                shutil.copyfileobj(file_from, file_to, n)"
   ]
  },
  {
   "cell_type": "code",
   "execution_count": null,
   "metadata": {},
   "outputs": [],
   "source": [
    "#testing for the best buffer size\n",
    "\n",
    "time_use = []\n",
    "size = [4096]             #test form 4096 to 4096*4^10   \n",
    "for i in range(10):\n",
    "    size.append(size[i]*4)\n",
    "\n",
    "for n in size:\n",
    "    \n",
    "    path = r\"C:\\input\"\n",
    "    \n",
    "    start_time = time.time()\n",
    "    copy_write(path,'20190131',n)\n",
    "    copy_write(path,'20190228',n)\n",
    "    copy_write(path,'20190331',n)\n",
    "    time_use.append(time.time() - start_time)"
   ]
  },
  {
   "cell_type": "code",
   "execution_count": 3,
   "metadata": {},
   "outputs": [
    {
     "data": {
      "text/plain": [
       "[<matplotlib.lines.Line2D at 0x25b026d2f88>]"
      ]
     },
     "execution_count": 3,
     "metadata": {},
     "output_type": "execute_result"
    },
    {
     "data": {
      "image/png": "[encoded data removed]",
      "text/plain": [
       "<Figure size 720x432 with 1 Axes>"
      ]
     },
     "metadata": {
      "needs_background": "light"
     },
     "output_type": "display_data"
    }
   ],
   "source": [
    "#plot the result\n",
    "\n",
    "import matplotlib.pyplot as plt\n",
    "plt.figure(figsize=(10, 6))\n",
    "size_for_plt=[i for i in range(11)]\n",
    "plt.plot(size_for_plt,time_use)"
   ]
  },
  {
   "cell_type": "code",
   "execution_count": 1,
   "metadata": {},
   "outputs": [],
   "source": [
    "# n=3 is the best buffer size according to the graph above\n",
    "# use it to perform the file copy task\n",
    "\n",
    "path = r\"C:\\input\"\n",
    "n=3\n",
    "copy_write(path,'20190131',4096*4**n)\n",
    "copy_write(path,'20190228',4096*4**n)\n",
    "copy_write(path,'20190331',4096*4**n)"
   ]
  }
 ],
 "metadata": {
  "kernelspec": {
   "display_name": "Python 3",
   "language": "python",
   "name": "python3"
  },
  "language_info": {
   "codemirror_mode": {
    "name": "ipython",
    "version": 3
   },
   "file_extension": ".py",
   "mimetype": "text/x-python",
   "name": "python",
   "nbconvert_exporter": "python",
   "pygments_lexer": "ipython3",
   "version": "3.7.4"
  }
 },
 "nbformat": 4,
 "nbformat_minor": 2
}
